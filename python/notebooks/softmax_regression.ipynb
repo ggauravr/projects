{
 "metadata": {
  "name": ""
 },
 "nbformat": 3,
 "nbformat_minor": 0,
 "worksheets": [
  {
   "cells": [
    {
     "cell_type": "code",
     "collapsed": false,
     "input": [
      "import scipy as sp\n",
      "import scipy.sparse as sparse\n",
      "import numpy as np\n",
      "import array\n",
      "import time\n",
      "\n",
      "fh = open('../data/softmax_regression/t10k-images.idx3-ubyte')\n",
      "h1 = fh.read(16)\n",
      "img_raw = array.array('B', fh.read())\n",
      "labels = [0, 2, 3, 5, 1, 4 , 8, 9, 7, 6]\n",
      "x_train = np.zeros((3,3))\n",
      "x_train[:, 0] = np.array([1,2,3])\n",
      "x_train[:, 1] = np.array([-1,-2,-3])\n",
      "x_train[:, 2] = np.array([0,1,0])\n",
      "print x_train\n",
      "print np.exp(x_train)"
     ],
     "language": "python",
     "metadata": {},
     "outputs": [
      {
       "output_type": "stream",
       "stream": "stdout",
       "text": [
        "[[ 1. -1.  0.]\n",
        " [ 2. -2.  1.]\n",
        " [ 3. -3.  0.]]\n",
        "[[  2.71828183   0.36787944   1.        ]\n",
        " [  7.3890561    0.13533528   2.71828183]\n",
        " [ 20.08553692   0.04978707   1.        ]]\n"
       ]
      }
     ],
     "prompt_number": 51
    },
    {
     "cell_type": "code",
     "collapsed": false,
     "input": [
      "    pwd"
     ],
     "language": "python",
     "metadata": {},
     "outputs": [
      {
       "metadata": {},
       "output_type": "pyout",
       "prompt_number": 2,
       "text": [
        "u'/home/ggauravr/Documents/projects/python/notebooks'"
       ]
      }
     ],
     "prompt_number": 2
    },
    {
     "cell_type": "code",
     "collapsed": false,
     "input": [],
     "language": "python",
     "metadata": {},
     "outputs": [],
     "prompt_number": 26
    },
    {
     "cell_type": "code",
     "collapsed": false,
     "input": [],
     "language": "python",
     "metadata": {},
     "outputs": [],
     "prompt_number": 26
    },
    {
     "cell_type": "code",
     "collapsed": false,
     "input": [],
     "language": "python",
     "metadata": {},
     "outputs": [],
     "prompt_number": 26
    },
    {
     "cell_type": "code",
     "collapsed": false,
     "input": [],
     "language": "python",
     "metadata": {},
     "outputs": [],
     "prompt_number": 26
    },
    {
     "cell_type": "code",
     "collapsed": false,
     "input": [],
     "language": "python",
     "metadata": {},
     "outputs": []
    }
   ],
   "metadata": {}
  }
 ]
}